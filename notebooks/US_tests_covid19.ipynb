{
 "cells": [
  {
   "cell_type": "code",
   "execution_count": 1,
   "metadata": {},
   "outputs": [],
   "source": [
    "import pandas as pd"
   ]
  },
  {
   "cell_type": "code",
   "execution_count": 6,
   "metadata": {},
   "outputs": [],
   "source": [
    "tests=pd.read_csv(r\"covid19\\us_states_covid19_daily.csv\")"
   ]
  },
  {
   "cell_type": "code",
   "execution_count": 7,
   "metadata": {
    "scrolled": true
   },
   "outputs": [],
   "source": [
    "tests=tests.astype({'date': str})\n",
    "for i in range(2112):\n",
    "    val=str(tests.at[i,'date'])\n",
    "    tests.at[i,'date']=val[6:]+'/'+val[4:6]\n",
    "\n",
    "tests.drop(columns=[\"hospitalizedCurrently\",\"recovered\",\"hospitalizedCumulative\",\"inIcuCurrently\",\"inIcuCumulative\",\n",
    "                \"onVentilatorCurrently\",\"onVentilatorCumulative\",\"hash\",\"dateChecked\",\"death\",\"hospitalized\",\n",
    "                \"deathIncrease\",\"posNeg\",\"hospitalizedIncrease\",\"fips\"],inplace=True)\n",
    "\n",
    "tests_per_state = dict(tuple(tests.groupby('state')))\n",
    "for i in tests_per_state:\n",
    "    tests_per_state[i].set_index(\"date\",inplace=True)\n",
    "    tests_per_state[i].drop(columns=[\"state\"],inplace=True)"
   ]
  },
  {
   "cell_type": "code",
   "execution_count": 8,
   "metadata": {},
   "outputs": [
    {
     "data": {
      "text/plain": [
       "dict_keys(['AK', 'AL', 'AR', 'AS', 'AZ', 'CA', 'CO', 'CT', 'DC', 'DE', 'FL', 'GA', 'GU', 'HI', 'IA', 'ID', 'IL', 'IN', 'KS', 'KY', 'LA', 'MA', 'MD', 'ME', 'MI', 'MN', 'MO', 'MP', 'MS', 'MT', 'NC', 'ND', 'NE', 'NH', 'NJ', 'NM', 'NV', 'NY', 'OH', 'OK', 'OR', 'PA', 'PR', 'RI', 'SC', 'SD', 'TN', 'TX', 'UT', 'VA', 'VI', 'VT', 'WA', 'WI', 'WV', 'WY'])"
      ]
     },
     "execution_count": 8,
     "metadata": {},
     "output_type": "execute_result"
    }
   ],
   "source": [
    "tests_per_state.keys()"
   ]
  }
 ],
 "metadata": {
  "kernelspec": {
   "display_name": "Python 3",
   "language": "python",
   "name": "python3"
  },
  "language_info": {
   "codemirror_mode": {
    "name": "ipython",
    "version": 3
   },
   "file_extension": ".py",
   "mimetype": "text/x-python",
   "name": "python",
   "nbconvert_exporter": "python",
   "pygments_lexer": "ipython3",
   "version": "3.6.5"
  }
 },
 "nbformat": 4,
 "nbformat_minor": 2
}
