{
 "cells": [
  {
   "cell_type": "code",
   "execution_count": 1,
   "metadata": {},
   "outputs": [],
   "source": [
    "import pandas as pd\n",
    "from datetime import date\n",
    "import requests\n",
    "from bs4 import BeautifulSoup"
   ]
  },
  {
   "cell_type": "code",
   "execution_count": 2,
   "metadata": {},
   "outputs": [],
   "source": [
    "source=requests.get(\"https://en.wikipedia.org/wiki/List_of_U.S._state_abbreviations\").text\n",
    "soup=BeautifulSoup(source,'lxml')\n",
    "table=soup.find_all('table')\n",
    "rows = soup.find_all('tr')[12:68]\n",
    "states_abbreviations={}\n",
    "for row in rows:\n",
    "    cells = row.find_all('td')\n",
    "    states_abbreviations.update({cells[3].text:cells[0].text.strip()})"
   ]
  },
  {
   "cell_type": "code",
   "execution_count": 3,
   "metadata": {},
   "outputs": [],
   "source": [
    "us_infections=pd.read_csv(r\"covid19/infections_timeseries.csv\")\n",
    "\n",
    "\n",
    "us_infections['state'] = us_infections.apply(lambda row: str(row.Combined_Key).split('-')[1].strip(' '), axis = 1)\n",
    "FIPS=us_infections[[\"FIPS\",\"Combined_Key\",\"state\"]].set_index(\"FIPS\")\n",
    "\n",
    "us_infections.drop(columns=[\"FIPS\"])\n",
    "infections_by_city = dict(tuple(us_infections.groupby('state')))\n",
    "infections_by_state = us_infections.groupby('state').sum()"
   ]
  },
  {
   "cell_type": "code",
   "execution_count": 4,
   "metadata": {},
   "outputs": [],
   "source": [
    "us_deaths=pd.read_csv(r\"covid19/deaths_timeseries.csv\").drop(columns=[\"FIPS\"])\n",
    "\n",
    "us_deaths['state'] = us_deaths.apply(lambda row: str(row.Combined_Key).split('-')[1].strip(' '), axis = 1)\n",
    "deaths_by_city = dict(tuple(us_deaths.groupby('state')))\n",
    "deaths_by_state = us_deaths.groupby('state').sum()"
   ]
  },
  {
   "cell_type": "code",
   "execution_count": 5,
   "metadata": {},
   "outputs": [],
   "source": [
    "us_interventions=pd.read_csv(r\"covid19/interventions.csv\").drop(columns=[\"FIPS\"],index=[0])\n",
    "\n",
    "for i in list(us_interventions.columns)[2:]:\n",
    "    us_interventions[i] = us_interventions[i].dropna().apply(int).apply(date.fromordinal)\n",
    "us_interventions['STATE'] = us_interventions.apply(lambda row: states_abbreviations[row.STATE] , axis = 1)\n",
    "interventions_by_state = us_interventions.groupby('STATE').first().drop(columns=[\"AREA_NAME\"])"
   ]
  },
  {
   "cell_type": "code",
   "execution_count": 6,
   "metadata": {},
   "outputs": [],
   "source": [
    "us_poi_visits=pd.read_csv(r\"covid19/poi_visits.csv\").set_index(\"FIPS\")\n",
    "\n",
    "us_poi_visits['state'] = None\n",
    "us_poi_visits['Combined_Key'] = None\n",
    "for i in us_poi_visits.index:\n",
    "    try:us_poi_visits.at[i,'state']=FIPS.at[i,\"state\"]\n",
    "    except:None\n",
    "    try:us_poi_visits.at[i,'Combined_Key']=FIPS.at[i,'Combined_Key']\n",
    "    except:None\n",
    "poi_visits_by_state = us_poi_visits.groupby('state').sum()"
   ]
  },
  {
   "cell_type": "code",
   "execution_count": 7,
   "metadata": {},
   "outputs": [],
   "source": [
    "datasets=[states_abbreviations,FIPS,infections_by_city,infections_by_state,deaths_by_city,\n",
    "          deaths_by_state,us_interventions,interventions_by_state,us_poi_visits,poi_visits_by_state]"
   ]
  }
 ],
 "metadata": {
  "kernelspec": {
   "display_name": "Python 3",
   "language": "python",
   "name": "python3"
  },
  "language_info": {
   "codemirror_mode": {
    "name": "ipython",
    "version": 3
   },
   "file_extension": ".py",
   "mimetype": "text/x-python",
   "name": "python",
   "nbconvert_exporter": "python",
   "pygments_lexer": "ipython3",
   "version": "3.6.5"
  }
 },
 "nbformat": 4,
 "nbformat_minor": 2
}
