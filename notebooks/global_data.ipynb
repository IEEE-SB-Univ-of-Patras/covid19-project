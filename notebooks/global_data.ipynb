{
 "cells": [
  {
   "cell_type": "code",
   "execution_count": 1,
   "metadata": {},
   "outputs": [],
   "source": [
    "import pandas as pd"
   ]
  },
  {
   "cell_type": "code",
   "execution_count": 3,
   "metadata": {},
   "outputs": [],
   "source": [
    "general=pd.read_csv(r\"covid19_datasets\\covid19countryinfo.csv\")\n",
    "general=general[[\"country\",\"alpha3code\",\"pop\",\"density\",\"medianage\",\"urbanpop\",\"smokers\",\"lung\",\"gdp2019\",\"healthexp\",\"healthperpop\",\n",
    "     \"avgtemp\",\"avghumidity\",\"firstcase\"]].drop(general.index[193:])"
   ]
  },
  {
   "cell_type": "code",
   "execution_count": 4,
   "metadata": {},
   "outputs": [],
   "source": [
    "mobility=pd.read_csv(\"applemobilitytrends-2020-04-14.csv\")\n",
    "mobility_countries = dict(tuple(mobility.groupby('geo_type')))['country/region']\n",
    "mobility_countries=mobility_countries.drop(columns=[\"transportation_type\"]).groupby(\"region\").mean()"
   ]
  },
  {
   "cell_type": "code",
   "execution_count": 14,
   "metadata": {
    "scrolled": true
   },
   "outputs": [],
   "source": [
    "data={\"general_country\":general,\"mobility_countries\":mobility_countries}\n",
    "for i in data:\n",
    "    data[i].to_csv ('covid19_datasets\\\\' + i + '.csv', index = False, header=True)"
   ]
  }
 ],
 "metadata": {
  "kernelspec": {
   "display_name": "Python 3",
   "language": "python",
   "name": "python3"
  },
  "language_info": {
   "codemirror_mode": {
    "name": "ipython",
    "version": 3
   },
   "file_extension": ".py",
   "mimetype": "text/x-python",
   "name": "python",
   "nbconvert_exporter": "python",
   "pygments_lexer": "ipython3",
   "version": "3.6.5"
  }
 },
 "nbformat": 4,
 "nbformat_minor": 2
}
